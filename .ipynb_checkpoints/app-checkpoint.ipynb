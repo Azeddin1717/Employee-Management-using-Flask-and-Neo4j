{
 "cells": [
  {
   "cell_type": "code",
   "execution_count": 1,
   "metadata": {},
   "outputs": [
    {
     "ename": "ImportError",
     "evalue": "cannot import name 'app_ctx' from 'flask.globals' (/Users/mac/anaconda3/lib/python3.9/site-packages/flask/globals.py)",
     "output_type": "error",
     "traceback": [
      "\u001b[0;31m---------------------------------------------------------------------------\u001b[0m",
      "\u001b[0;31mImportError\u001b[0m                               Traceback (most recent call last)",
      "Cell \u001b[0;32mIn [1], line 2\u001b[0m\n\u001b[1;32m      1\u001b[0m \u001b[38;5;28;01mfrom\u001b[39;00m \u001b[38;5;21;01mflask\u001b[39;00m \u001b[38;5;28;01mimport\u001b[39;00m Flask , render_template ,request ,redirect , url_for , flash\n\u001b[0;32m----> 2\u001b[0m \u001b[38;5;28;01mfrom\u001b[39;00m \u001b[38;5;21;01mflask_sqlalchemy\u001b[39;00m \u001b[38;5;28;01mimport\u001b[39;00m SQLAlchemy\n\u001b[1;32m      3\u001b[0m \u001b[38;5;28;01mfrom\u001b[39;00m \u001b[38;5;21;01msqlalchemy\u001b[39;00m\u001b[38;5;21;01m.\u001b[39;00m\u001b[38;5;21;01mexc\u001b[39;00m \u001b[38;5;28;01mimport\u001b[39;00m IntegrityError\n\u001b[1;32m      4\u001b[0m \u001b[38;5;28;01mfrom\u001b[39;00m \u001b[38;5;21;01mwerkzeug\u001b[39;00m \u001b[38;5;28;01mimport\u001b[39;00m datastructures\n",
      "File \u001b[0;32m~/anaconda3/lib/python3.9/site-packages/flask_sqlalchemy/__init__.py:5\u001b[0m\n\u001b[1;32m      1\u001b[0m \u001b[38;5;28;01mfrom\u001b[39;00m \u001b[38;5;21;01m__future__\u001b[39;00m \u001b[38;5;28;01mimport\u001b[39;00m annotations\n\u001b[1;32m      3\u001b[0m \u001b[38;5;28;01mimport\u001b[39;00m \u001b[38;5;21;01mtyping\u001b[39;00m \u001b[38;5;28;01mas\u001b[39;00m \u001b[38;5;21;01mt\u001b[39;00m\n\u001b[0;32m----> 5\u001b[0m \u001b[38;5;28;01mfrom\u001b[39;00m \u001b[38;5;21;01m.\u001b[39;00m\u001b[38;5;21;01mextension\u001b[39;00m \u001b[38;5;28;01mimport\u001b[39;00m SQLAlchemy\n\u001b[1;32m      7\u001b[0m __version__ \u001b[38;5;241m=\u001b[39m \u001b[38;5;124m\"\u001b[39m\u001b[38;5;124m3.0.2\u001b[39m\u001b[38;5;124m\"\u001b[39m\n\u001b[1;32m      9\u001b[0m __all__ \u001b[38;5;241m=\u001b[39m [\n\u001b[1;32m     10\u001b[0m     \u001b[38;5;124m\"\u001b[39m\u001b[38;5;124mSQLAlchemy\u001b[39m\u001b[38;5;124m\"\u001b[39m,\n\u001b[1;32m     11\u001b[0m ]\n",
      "File \u001b[0;32m~/anaconda3/lib/python3.9/site-packages/flask_sqlalchemy/extension.py:23\u001b[0m\n\u001b[1;32m     21\u001b[0m \u001b[38;5;28;01mfrom\u001b[39;00m \u001b[38;5;21;01m.\u001b[39;00m\u001b[38;5;21;01mpagination\u001b[39;00m \u001b[38;5;28;01mimport\u001b[39;00m SelectPagination\n\u001b[1;32m     22\u001b[0m \u001b[38;5;28;01mfrom\u001b[39;00m \u001b[38;5;21;01m.\u001b[39;00m\u001b[38;5;21;01mquery\u001b[39;00m \u001b[38;5;28;01mimport\u001b[39;00m Query\n\u001b[0;32m---> 23\u001b[0m \u001b[38;5;28;01mfrom\u001b[39;00m \u001b[38;5;21;01m.\u001b[39;00m\u001b[38;5;21;01msession\u001b[39;00m \u001b[38;5;28;01mimport\u001b[39;00m _app_ctx_id\n\u001b[1;32m     24\u001b[0m \u001b[38;5;28;01mfrom\u001b[39;00m \u001b[38;5;21;01m.\u001b[39;00m\u001b[38;5;21;01msession\u001b[39;00m \u001b[38;5;28;01mimport\u001b[39;00m Session\n\u001b[1;32m     27\u001b[0m \u001b[38;5;28;01mclass\u001b[39;00m \u001b[38;5;21;01mSQLAlchemy\u001b[39;00m:\n",
      "File \u001b[0;32m~/anaconda3/lib/python3.9/site-packages/flask_sqlalchemy/session.py:8\u001b[0m\n\u001b[1;32m      6\u001b[0m \u001b[38;5;28;01mimport\u001b[39;00m \u001b[38;5;21;01msqlalchemy\u001b[39;00m\u001b[38;5;21;01m.\u001b[39;00m\u001b[38;5;21;01mexc\u001b[39;00m\n\u001b[1;32m      7\u001b[0m \u001b[38;5;28;01mimport\u001b[39;00m \u001b[38;5;21;01msqlalchemy\u001b[39;00m\u001b[38;5;21;01m.\u001b[39;00m\u001b[38;5;21;01morm\u001b[39;00m\n\u001b[0;32m----> 8\u001b[0m \u001b[38;5;28;01mfrom\u001b[39;00m \u001b[38;5;21;01mflask\u001b[39;00m\u001b[38;5;21;01m.\u001b[39;00m\u001b[38;5;21;01mglobals\u001b[39;00m \u001b[38;5;28;01mimport\u001b[39;00m app_ctx\n\u001b[1;32m     10\u001b[0m \u001b[38;5;28;01mif\u001b[39;00m t\u001b[38;5;241m.\u001b[39mTYPE_CHECKING:\n\u001b[1;32m     11\u001b[0m     \u001b[38;5;28;01mfrom\u001b[39;00m \u001b[38;5;21;01m.\u001b[39;00m\u001b[38;5;21;01mextension\u001b[39;00m \u001b[38;5;28;01mimport\u001b[39;00m SQLAlchemy\n",
      "\u001b[0;31mImportError\u001b[0m: cannot import name 'app_ctx' from 'flask.globals' (/Users/mac/anaconda3/lib/python3.9/site-packages/flask/globals.py)"
     ]
    }
   ],
   "source": [
    "from flask import Flask , render_template ,request ,redirect , url_for , flash\n",
    "from flask_sqlalchemy import SQLAlchemy\n",
    "from sqlalchemy.exc import IntegrityError\n",
    "from werkzeug import datastructures\n",
    "from neo4j import GraphDatabase"
   ]
  },
  {
   "cell_type": "code",
   "execution_count": null,
   "metadata": {},
   "outputs": [],
   "source": [
    "app = Flask(__name__)\n",
    "app.config['SECRET_KEY'] = 'super secret key'\n",
    "app.config['SQLALCHEMY_DATABASE_URI'] = 'sqlite:///mydb.db'\n",
    "db = SQLAlchemy(app)\n",
    "class Employer(db.Model):\n",
    "    id = db.Column(db.Integer, primary_key=True)\n",
    "    cin = db.Column(db.String(80), unique=True ,nullable=False)\n",
    "    nom = db.Column(db.String(80),  nullable=False)\n",
    "    email = db.Column(db.String(120),  nullable=False)\n",
    "    tlf = db.Column(db.Integer, unique=True, nullable=False)\n",
    "    Salaire = db.Column(db.Integer,  nullable=False)\n",
    "    def __init__(self , cin , nom , email , tlf , Salaire):\n",
    "        self.cin = cin\n",
    "        self.nom = nom\n",
    "        self.email = email\n",
    "        self.tlf = tlf\n",
    "        self.Salaire = Salaire"
   ]
  },
  {
   "cell_type": "markdown",
   "metadata": {},
   "source": [
    "--------Connect to Neo4j-----------:"
   ]
  },
  {
   "cell_type": "code",
   "execution_count": null,
   "metadata": {},
   "outputs": [],
   "source": [
    "uri = 'bolt://localhost:7687'\n",
    "driver = GraphDatabase.driver(uri, auth=(\"neo4j\", \"11223344\"))\n",
    "session = driver.session()"
   ]
  },
  {
   "cell_type": "markdown",
   "metadata": {},
   "source": [
    "-----Get dept infs"
   ]
  },
  {
   "cell_type": "code",
   "execution_count": null,
   "metadata": {},
   "outputs": [],
   "source": [
    "Dept_Info_query = \"match(e:Employee)-[r:WORKS_IN]->(d:Department{name:'Finance'}) return e,r,d limit 1\""
   ]
  },
  {
   "cell_type": "code",
   "execution_count": null,
   "metadata": {},
   "outputs": [],
   "source": [
    "@app.route('/')\n",
    "def index():\n",
    "    result = session.run(Dept_Info_query)\n",
    "    return render_template(\"index.html\", mydata= result)"
   ]
  },
  {
   "cell_type": "code",
   "execution_count": null,
   "metadata": {},
   "outputs": [],
   "source": [
    "@app.route('/add', methods = ['GET', 'POST'])\n",
    "def add():\n",
    "    if request.method == 'POST':\n",
    "        cin = request.form['cin']\n",
    "        nom = request.form['nom']\n",
    "        email = request.form['email']\n",
    "        tlf = request.form['tlf']\n",
    "        Salaire = request.form['Salaire']\n",
    "        data = Employer(cin , nom ,email , tlf, Salaire)\n",
    "        db.session.add(data)\n",
    "        \n",
    "        try :\n",
    "            db.session.commit()\n",
    "            flash(\"Employe ajoute\" ,\"success\")\n",
    "            \n",
    "        except:\n",
    "            db.session.rollback()\n",
    "            flash(\"Employe non ajoute\" , \"warning\")\n",
    "        return redirect(url_for('index'))"
   ]
  },
  {
   "cell_type": "code",
   "execution_count": null,
   "metadata": {},
   "outputs": [],
   "source": [
    "@app.route('/modifier', methods = ['GET', 'POST'])\n",
    "def modifier():\n",
    "    if request.method == \"POST\":\n",
    "        data = Employer.query.get(request.form.get('id'))\n",
    "        data.cin = request.form['cin']\n",
    "        data.nom = request.form['nom']\n",
    "        data.email = request.form['email']\n",
    "        data.tlf = request.form['tlf']\n",
    "        data.Salaire = request.form['Salaire']\n",
    "        try :\n",
    "            db.session.commit()\n",
    "            flash(\"les donnees de l'employee ont ete modifiees\")\n",
    "            \n",
    "        except:\n",
    "            db.session.rollback()\n",
    "            flash(\"Les donnees de l'employe n'ont pas ete modifiees\")\n",
    "        return redirect(url_for('index'))"
   ]
  },
  {
   "cell_type": "code",
   "execution_count": null,
   "metadata": {},
   "outputs": [],
   "source": [
    "@app.route('/supprimer/<id>/', methods = ['GET', 'POST'])\n",
    "def supprimer(id):\n",
    "    data = Employer.query.get(id)\n",
    "    db.session.delete(data)\n",
    "    db.session.commit()\n",
    "    flash(\"l'employe est supprime\")\n",
    "    return redirect(url_for('index'))"
   ]
  },
  {
   "cell_type": "code",
   "execution_count": null,
   "metadata": {},
   "outputs": [],
   "source": [
    "if __name__ == \"__main__\":\n",
    "    app.run(debug=True , port=8000)"
   ]
  }
 ],
 "metadata": {
  "kernelspec": {
   "display_name": "Python 3 (ipykernel)",
   "language": "python",
   "name": "python3"
  },
  "language_info": {
   "codemirror_mode": {
    "name": "ipython",
    "version": 3
   },
   "file_extension": ".py",
   "mimetype": "text/x-python",
   "name": "python",
   "nbconvert_exporter": "python",
   "pygments_lexer": "ipython3",
   "version": "3.9.12"
  }
 },
 "nbformat": 4,
 "nbformat_minor": 2
}
